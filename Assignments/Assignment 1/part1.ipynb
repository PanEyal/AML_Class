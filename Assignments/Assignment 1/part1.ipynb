{
 "cells": [
  {
   "cell_type": "markdown",
   "metadata": {},
   "source": [
    "# Part 1"
   ]
  },
  {
   "cell_type": "markdown",
   "metadata": {
    "tags": []
   },
   "source": [
    "#### <u>Loading the digits datase and preliminary data analysis</u>"
   ]
  },
  {
   "cell_type": "code",
   "execution_count": 1,
   "metadata": {
    "executionInfo": {
     "elapsed": 289,
     "status": "ok",
     "timestamp": 1680867897706,
     "user": {
      "displayName": "koren abitbul",
      "userId": "16610089647311253920"
     },
     "user_tz": -180
    },
    "id": "V69FVQcno0kh"
   },
   "outputs": [],
   "source": [
    "from sklearn.datasets import load_digits\n",
    "import numpy as np\n",
    "import pandas as pd\n",
    "import matplotlib.pyplot as plt"
   ]
  },
  {
   "cell_type": "code",
   "execution_count": 2,
   "metadata": {},
   "outputs": [],
   "source": [
    "# load the dataset\n",
    "digits = load_digits()\n",
    "X, y = digits['data'], digits['target']  # type: np.ndarray"
   ]
  },
  {
   "cell_type": "code",
   "execution_count": 3,
   "metadata": {
    "id": "ZutI2vUQq8u7"
   },
   "outputs": [
    {
     "name": "stdout",
     "output_type": "stream",
     "text": [
      "the number of samples in the dataset is:  1797\n",
      "the dimension (or features) of each data sample is:  64\n",
      "the mean value of the mean fetures values of the dataset is: 4.884\n",
      "the variance is: 36.202\n",
      "the scaling of the data is: integers between 0 and 16\n",
      "heres an example of some data sample:\n"
     ]
    },
    {
     "data": {
      "text/plain": [
       "<Figure size 640x480 with 0 Axes>"
      ]
     },
     "metadata": {},
     "output_type": "display_data"
    },
    {
     "data": {
      "image/png": "[encoded data removed]",
      "text/plain": [
       "<Figure size 480x480 with 1 Axes>"
      ]
     },
     "metadata": {},
     "output_type": "display_data"
    }
   ],
   "source": [
    "# preliminary data analysis\n",
    "print(\"the number of samples in the dataset is: \", X.shape[0])\n",
    "print(\"the dimension (or features) of each data sample is: \", X.shape[1])\n",
    "print(\"the mean value of the mean fetures values of the dataset is: {:.3f}\".format(np.mean(X)))\n",
    "print(\"the variance is: {:.3f}\".format(np.var(X)))\n",
    "print(\"the scaling of the data is: integers between 0 and 16\")\n",
    "print(\"heres an example of some data sample:\")\n",
    "plt.gray()\n",
    "plt.matshow(digits.images[3])\n",
    "plt.show()"
   ]
  },
  {
   "cell_type": "markdown",
   "metadata": {},
   "source": [
    "#### <u>splitting the dataset and training</u>"
   ]
  },
  {
   "cell_type": "code",
   "execution_count": 4,
   "metadata": {},
   "outputs": [],
   "source": [
    "from sklearn.linear_model import LogisticRegression\n",
    "from sklearn.model_selection import train_test_split\n",
    "from sklearn.preprocessing import StandardScaler\n",
    "from sklearn.metrics import accuracy_score"
   ]
  },
  {
   "cell_type": "code",
   "execution_count": 5,
   "metadata": {
    "id": "auoeX6Elzbbj"
   },
   "outputs": [],
   "source": [
    "# splitting the dataset, training it and eval\n",
    "def split_train_eval(X,y):\n",
    "    sc = StandardScaler()\n",
    "    sc.fit(X)\n",
    "    X = sc.transform(X)\n",
    "    for r in np.arange(0.1, 1.0, 0.1):\n",
    "      X_train, X_test, y_train, y_test = train_test_split(X, y, test_size = r)\n",
    "      classifier = LogisticRegression(random_state = 0, max_iter=1000)\n",
    "      classifier.fit(X_train, y_train)  \n",
    "      y_pred = classifier.predict(X_test)\n",
    "      accuracy = accuracy_score(y_test, y_pred)  # Evaluate the misclassification\n",
    "      print(\"The accuracy of r = {:.1f} is: {:.3f}\".format(r, accuracy))"
   ]
  },
  {
   "cell_type": "code",
   "execution_count": 6,
   "metadata": {},
   "outputs": [
    {
     "name": "stdout",
     "output_type": "stream",
     "text": [
      "The accuracy of r = 0.1 is: 0.972\n",
      "The accuracy of r = 0.2 is: 0.972\n",
      "The accuracy of r = 0.3 is: 0.974\n",
      "The accuracy of r = 0.4 is: 0.962\n",
      "The accuracy of r = 0.5 is: 0.957\n",
      "The accuracy of r = 0.6 is: 0.953\n",
      "The accuracy of r = 0.7 is: 0.945\n",
      "The accuracy of r = 0.8 is: 0.943\n",
      "The accuracy of r = 0.9 is: 0.925\n"
     ]
    }
   ],
   "source": [
    "split_train_eval(X,y)"
   ]
  },
  {
   "cell_type": "markdown",
   "metadata": {},
   "source": [
    "#### <u>creating an unbalanced dataset</u>"
   ]
  },
  {
   "cell_type": "code",
   "execution_count": 7,
   "metadata": {
    "id": "udKn_nq651rA"
   },
   "outputs": [],
   "source": [
    "# define unbalanced dataset size\n",
    "num_per_class = [50, 50, 70, 60, 110, 120, 120, 120, 150, 150]\n",
    "assert np.sum(num_per_class) == 1000"
   ]
  },
  {
   "cell_type": "code",
   "execution_count": 8,
   "metadata": {},
   "outputs": [],
   "source": [
    "# Create an empty array to store the sampled data\n",
    "new_X = np.empty((0, X.shape[1]), dtype=X.dtype)\n",
    "new_y = np.empty((0,), dtype=y.dtype)"
   ]
  },
  {
   "cell_type": "code",
   "execution_count": 9,
   "metadata": {},
   "outputs": [],
   "source": [
    "# Sample from each class and append to the new dataset\n",
    "for i in range(10):\n",
    "    class_indices = np.where(y == i)[0]\n",
    "    # print(class_indices)\n",
    "    sampled_indices = np.random.choice(class_indices, size=num_per_class[i], replace=False)\n",
    "    new_X = np.concatenate((new_X, X[sampled_indices]), axis=0)\n",
    "    new_y = np.concatenate((new_y, y[sampled_indices]), axis=0)"
   ]
  },
  {
   "cell_type": "code",
   "execution_count": 10,
   "metadata": {},
   "outputs": [],
   "source": [
    "# Shuffle the new dataset\n",
    "shuffle_indices = np.random.permutation(new_X.shape[0])\n",
    "new_X = new_X[shuffle_indices]\n",
    "new_y = new_y[shuffle_indices]"
   ]
  },
  {
   "cell_type": "code",
   "execution_count": 11,
   "metadata": {},
   "outputs": [],
   "source": [
    "# Take the first 1000 examples from the shuffled dataset\n",
    "new_X = new_X[:1000]\n",
    "new_y = new_y[:1000]"
   ]
  },
  {
   "cell_type": "markdown",
   "metadata": {},
   "source": [
    "#### <u>label balancing</u>"
   ]
  },
  {
   "cell_type": "code",
   "execution_count": 12,
   "metadata": {
    "id": "2yH1Wl7U4ahP"
   },
   "outputs": [],
   "source": [
    "# balancing the labels\n",
    "lmin = np.min(np.bincount(new_y[:].astype(int)))\n",
    "\n",
    "balanced_X = np.empty((0, new_X.shape[1]), dtype=new_X.dtype)\n",
    "balanced_y = np.empty((0,), dtype=new_y.dtype)\n",
    "for label in range(len(set(new_y))):\n",
    "    partial_data_X = new_X[new_y == label, :]\n",
    "    partial_data_X = partial_data_X[np.random.choice(partial_data_X.shape[0], size=lmin, replace=False), :]\n",
    "    assert len(partial_data_X) == lmin\n",
    "    balanced_X = np.concatenate((balanced_X, partial_data_X), axis=0)\n",
    "    balanced_y = np.concatenate((balanced_y, np.full((lmin,), label)), axis=0)"
   ]
  },
  {
   "cell_type": "code",
   "execution_count": 13,
   "metadata": {},
   "outputs": [
    {
     "name": "stdout",
     "output_type": "stream",
     "text": [
      "The accuracy of r = 0.1 is: 0.920\n",
      "The accuracy of r = 0.2 is: 0.960\n",
      "The accuracy of r = 0.3 is: 0.927\n",
      "The accuracy of r = 0.4 is: 0.940\n",
      "The accuracy of r = 0.5 is: 0.936\n",
      "The accuracy of r = 0.6 is: 0.917\n",
      "The accuracy of r = 0.7 is: 0.897\n",
      "The accuracy of r = 0.8 is: 0.877\n",
      "The accuracy of r = 0.9 is: 0.820\n"
     ]
    }
   ],
   "source": [
    "# splitting the dataset, training it and eval\n",
    "split_train_eval(balanced_X, balanced_y)"
   ]
  },
  {
   "cell_type": "markdown",
   "metadata": {},
   "source": [
    "#### <u>naive k-features selection algorithm with k=2</u>"
   ]
  },
  {
   "cell_type": "code",
   "execution_count": 14,
   "metadata": {},
   "outputs": [],
   "source": [
    "from itertools import combinations\n",
    "from tqdm import tqdm"
   ]
  },
  {
   "cell_type": "code",
   "execution_count": 15,
   "metadata": {
    "id": "AnNH2c9rBdgv"
   },
   "outputs": [],
   "source": [
    "# naive k-features selection algorithm with k=2\n",
    "def select_k_features(X_train, X_test, y_train, y_test, k):\n",
    "    n_features = X_train.shape[1]\n",
    "    feature_indices = list(range(n_features))\n",
    "    best_accuracy = 0.0\n",
    "    best_features = []\n",
    "    \n",
    "    # Generate all possible combinations of k features\n",
    "    feature_combinations = list(combinations(feature_indices, k))\n",
    "    \n",
    "    # For each combination of features, train a logistic regression classifier on the training set\n",
    "    # and evaluate its accuracy on the test set\n",
    "    for features in tqdm(feature_combinations):\n",
    "        lr = LogisticRegression(random_state=42, max_iter=1000)\n",
    "        lr.fit(X_train[:, features], y_train)\n",
    "        accuracy = lr.score(X_test[:, features], y_test)\n",
    "        \n",
    "        # If this set of features is the best so far, update the best_features and best_accuracy variables\n",
    "        if accuracy > best_accuracy:\n",
    "            best_accuracy = accuracy\n",
    "            best_features = features\n",
    "    \n",
    "    return best_features, best_accuracy"
   ]
  },
  {
   "cell_type": "code",
   "execution_count": 16,
   "metadata": {},
   "outputs": [
    {
     "name": "stderr",
     "output_type": "stream",
     "text": [
      "100%|██████████| 2016/2016 [05:29<00:00,  6.11it/s]\n"
     ]
    }
   ],
   "source": [
    "X_train, X_test, y_train, y_test = train_test_split(X, y, test_size=0.2, random_state=42)  # Split data into train and test sets\n",
    "best_features, accuracy = select_k_features(X_train, X_test, y_train, y_test, k=2)  # Select the best 2 features"
   ]
  },
  {
   "cell_type": "code",
   "execution_count": 17,
   "metadata": {},
   "outputs": [
    {
     "name": "stdout",
     "output_type": "stream",
     "text": [
      "Best features: (21, 42)\n",
      "Accuracy: 47.22%\n"
     ]
    }
   ],
   "source": [
    "print(\"Best features:\", best_features)\n",
    "print(\"Accuracy: {:.2f}%\".format(accuracy * 100))"
   ]
  }
 ],
 "metadata": {
  "colab": {
   "authorship_tag": "ABX9TyMLYNk3uar9KjEQUqOWGWI/",
   "provenance": []
  },
  "kernelspec": {
   "display_name": "Python 3 (ipykernel)",
   "language": "python",
   "name": "python3"
  },
  "language_info": {
   "codemirror_mode": {
    "name": "ipython",
    "version": 3
   },
   "file_extension": ".py",
   "mimetype": "text/x-python",
   "name": "python",
   "nbconvert_exporter": "python",
   "pygments_lexer": "ipython3",
   "version": "3.9.13"
  }
 },
 "nbformat": 4,
 "nbformat_minor": 4
}
