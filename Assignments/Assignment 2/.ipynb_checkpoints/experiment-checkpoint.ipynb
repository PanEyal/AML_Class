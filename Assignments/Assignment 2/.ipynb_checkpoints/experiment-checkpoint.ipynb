{
 "cells": [
  {
   "cell_type": "markdown",
   "metadata": {
    "id": "72ywWyeyyBig"
   },
   "source": [
    "<h4><center>Koren Abitbul, Pan Eyal</center></h4>"
   ]
  },
  {
   "cell_type": "markdown",
   "metadata": {
    "id": "q1yM0wp89Ba_"
   },
   "source": [
    "Imports"
   ]
  },
  {
   "cell_type": "code",
   "execution_count": 1,
   "metadata": {
    "id": "dTO1OAxnhZqn"
   },
   "outputs": [],
   "source": [
    "import numpy as np\n",
    "import pandas as pd\n",
    "import matplotlib.pyplot as plt\n",
    "from sklearn.metrics import f1_score\n",
    "from sklearn.model_selection import GridSearchCV\n",
    "\n",
    "np.random.seed(42)"
   ]
  },
  {
   "cell_type": "code",
   "execution_count": 2,
   "metadata": {},
   "outputs": [],
   "source": [
    "from sklearn.svm import SVC\n",
    "from sklearn.linear_model import LogisticRegression\n",
    "from sklearn.tree import DecisionTreeClassifier\n",
    "from sklearn.neighbors import KNeighborsClassifier\n",
    "from sklearn.naive_bayes import GaussianNB\n",
    "from sklearn.ensemble import RandomForestClassifier\n",
    "from sklearn.ensemble import GradientBoostingClassifier\n",
    "from sklearn.ensemble import AdaBoostClassifier\n",
    "from sklearn.neural_network import MLPClassifier"
   ]
  },
  {
   "cell_type": "markdown",
   "metadata": {
    "id": "lEjjLrh0lvmH"
   },
   "source": [
    "Loading the Data"
   ]
  },
  {
   "cell_type": "code",
   "execution_count": 3,
   "metadata": {
    "id": "ToK5N-IIhc3Z"
   },
   "outputs": [],
   "source": [
    "data = pd.read_pickle(\"ass2.pickle\")\n",
    "\n",
    "train = data['train']\n",
    "X_train = train.iloc[:, :-1].values\n",
    "y_train = train.iloc[:, -1].values\n",
    "\n",
    "dev = data['dev']\n",
    "X_dev = dev.iloc[:, :-1].values\n",
    "y_dev = dev.iloc[:, -1].values\n",
    "\n",
    "test = data['test']\n",
    "X_test = test.iloc[:, :-1].values\n",
    "y_test = test.iloc[:, -1].values"
   ]
  },
  {
   "cell_type": "markdown",
   "metadata": {
    "id": "jLQAfKm6lx2W"
   },
   "source": [
    "## Preliminary Data Analysis\n",
    "\n",
    "Printing some statistics about the data.\n",
    "In addition, We can observe that the dataset is unbalanced, but the proportions of the classes remain relatively consistent across the train, validation, and test sets. Hence, the fact that the dataset is unbalanced does not pose a significant issue.\n"
   ]
  },
  {
   "cell_type": "code",
   "execution_count": 4,
   "metadata": {
    "colab": {
     "base_uri": "https://localhost:8080/"
    },
    "id": "gtEXTUftBLKN",
    "outputId": "d3d893d7-7678-453f-e93c-5e58cee2e401"
   },
   "outputs": [
    {
     "name": "stdout",
     "output_type": "stream",
     "text": [
      "The shape of the train data:  (40533, 42)\n",
      "             f0        f1        f2        f3        f4        f5        f6  \\\n",
      "count  40533.00  40533.00  40533.00  40533.00  40533.00  40533.00  40533.00   \n",
      "mean       0.96      0.54      0.27      0.13      0.05      0.01      1.06   \n",
      "std        0.83      0.78      0.61      0.45      0.29      0.12      0.84   \n",
      "min        0.00      0.00      0.00      0.00      0.00      0.00      0.00   \n",
      "25%        0.00      0.00      0.00      0.00      0.00      0.00      0.00   \n",
      "50%        1.00      0.00      0.00      0.00      0.00      0.00      1.00   \n",
      "75%        2.00      1.00      0.00      0.00      0.00      0.00      2.00   \n",
      "max        2.00      2.00      2.00      2.00      2.00      2.00      2.00   \n",
      "\n",
      "             f7        f8        f9  ...       f33       f34       f35  \\\n",
      "count  40533.00  40533.00  40533.00  ...  40533.00  40533.00  40533.00   \n",
      "mean       0.58      0.29      0.14  ...      0.06      0.01      0.00   \n",
      "std        0.79      0.63      0.46  ...      0.30      0.15      0.05   \n",
      "min        0.00      0.00      0.00  ...      0.00      0.00      0.00   \n",
      "25%        0.00      0.00      0.00  ...      0.00      0.00      0.00   \n",
      "50%        0.00      0.00      0.00  ...      0.00      0.00      0.00   \n",
      "75%        1.00      0.00      0.00  ...      0.00      0.00      0.00   \n",
      "max        2.00      2.00      2.00  ...      2.00      2.00      2.00   \n",
      "\n",
      "            f36       f37       f38       f39       f40       f41    target  \n",
      "count  40533.00  40533.00  40533.00  40533.00  40533.00  40533.00  40533.00  \n",
      "mean       0.84      0.43      0.19      0.07      0.02      0.00      1.56  \n",
      "std        0.83      0.72      0.53      0.33      0.16      0.04      0.66  \n",
      "min        0.00      0.00      0.00      0.00      0.00      0.00      0.00  \n",
      "25%        0.00      0.00      0.00      0.00      0.00      0.00      1.00  \n",
      "50%        1.00      0.00      0.00      0.00      0.00      0.00      2.00  \n",
      "75%        2.00      1.00      0.00      0.00      0.00      0.00      2.00  \n",
      "max        2.00      2.00      2.00      2.00      2.00      2.00      2.00  \n",
      "\n",
      "[8 rows x 43 columns] \n",
      "\n",
      "label count for train:\n",
      "2    26734\n",
      "1     9882\n",
      "0     3917\n",
      "Name: target, dtype: int64\n",
      "\n",
      "label count for dev:\n",
      "2    8869\n",
      "1    3373\n",
      "0    1270\n",
      "Name: target, dtype: int64\n",
      "\n",
      "label count for test:\n",
      "2    8870\n",
      "1    3380\n",
      "0    1262\n",
      "Name: target, dtype: int64\n",
      "\n"
     ]
    }
   ],
   "source": [
    "import seaborn as sns\n",
    "# Get the shape of the training set\n",
    "print(\"The shape of the train data: \", X_train.shape)\n",
    "# Summary statistics of the training set\n",
    "print(train.describe().round(2), \"\\n\")\n",
    "# Count the number of occurrences of each class in the target variable\n",
    "print(f\"label count for train:\\n{train['target'].value_counts()}\\n\")\n",
    "print(f\"label count for dev:\\n{dev['target'].value_counts()}\\n\")\n",
    "print(f\"label count for test:\\n{test['target'].value_counts()}\\n\")"
   ]
  },
  {
   "cell_type": "markdown",
   "metadata": {
    "id": "RFI_RI3qUczw"
   },
   "source": [
    "## Visualize the correlation matrix\n",
    "we can see the correlation between the features"
   ]
  },
  {
   "cell_type": "code",
   "execution_count": 5,
   "metadata": {
    "colab": {
     "base_uri": "https://localhost:8080/",
     "height": 464
    },
    "id": "Iz3oycXwUep7",
    "outputId": "c0600170-a24f-44f2-debb-243c5d3c6a96"
   },
   "outputs": [
    {
     "data": {
      "image/png": "[encoded data removed]",
      "text/plain": [
       "<Figure size 640x480 with 2 Axes>"
      ]
     },
     "metadata": {},
     "output_type": "display_data"
    }
   ],
   "source": [
    "# Calculate the correlation matrix\n",
    "correlation_matrix = train.corr()\n",
    "# Visualize the correlation matrix using a heatmap\n",
    "sns.heatmap(correlation_matrix, annot=False, cmap='coolwarm')\n",
    "plt.show()"
   ]
  },
  {
   "cell_type": "markdown",
   "metadata": {
    "id": "mD3spN7KURpv"
   },
   "source": [
    "## Method grid search\n",
    "We evaluate the performance of various classification methods and different parameter settings by assessing their results on the validation set. Subsequently, we select the best method based on the outcomes obtained from the validation set."
   ]
  },
  {
   "cell_type": "code",
   "execution_count": 6,
   "metadata": {
    "id": "HetJDZcenCVl"
   },
   "outputs": [],
   "source": [
    "import warnings\n",
    "from sklearn.exceptions import ConvergenceWarning\n",
    "warnings.simplefilter(action='ignore', category=FutureWarning)\n",
    "warnings.simplefilter(action='ignore', category=ConvergenceWarning)\n",
    "\n",
    "best_from_each = []"
   ]
  },
  {
   "cell_type": "markdown",
   "metadata": {},
   "source": [
    "<u>K Nearest Neighbors"
   ]
  },
  {
   "cell_type": "code",
   "execution_count": 7,
   "metadata": {},
   "outputs": [
    {
     "name": "stdout",
     "output_type": "stream",
     "text": [
      "current search: K Nearest Neighbors\n",
      "ended with score:  0.7678359976317347 \n",
      "\n"
     ]
    }
   ],
   "source": [
    "print(\"current search: K Nearest Neighbors\")\n",
    "\n",
    "k_array = [3, 5, 7, 9, 11, 13, 15]\n",
    "knn_score_array = [0 for i in range(len(k_array))]\n",
    "for i, k in enumerate(k_array):\n",
    "  classifier = KNeighborsClassifier(n_neighbors = k)\n",
    "  classifier.fit(X_train, y_train)\n",
    "  score = classifier.score(X_dev, y_dev)\n",
    "  knn_score_array[i] = score\n",
    "\n",
    "best_score = np.max(np.array(knn_score_array))\n",
    "best_k = k_array[np.argmax(np.array(knn_score_array))]\n",
    "\n",
    "best_from_each.append((KNeighborsClassifier(n_neighbors = best_k), best_score))\n",
    "print(\"ended with score: \", best_score, \"\\n\")"
   ]
  },
  {
   "cell_type": "markdown",
   "metadata": {},
   "source": [
    "<u>Decision Tree"
   ]
  },
  {
   "cell_type": "code",
   "execution_count": 8,
   "metadata": {},
   "outputs": [
    {
     "name": "stdout",
     "output_type": "stream",
     "text": [
      "current search: Decision Tree\n",
      "ended with score:  0.7272794552989935 \n",
      "\n"
     ]
    }
   ],
   "source": [
    "print(\"current search: Decision Tree\")\n",
    "\n",
    "max_score = 0\n",
    "best_max_depth = 0\n",
    "best_min_samples_split = 0\n",
    "for max_depth in [2, 5, 7, 10]:\n",
    "  for min_samples_split in [2, 3, 4]:\n",
    "    classifier = DecisionTreeClassifier(max_depth=max_depth, min_samples_split=min_samples_split)\n",
    "    classifier.fit(X_train, y_train)\n",
    "    score = classifier.score(X_dev, y_dev)\n",
    "    if score > max_score:\n",
    "      max_score = score\n",
    "      best_max_depth = max_depth\n",
    "      best_min_samples_split = min_samples_split \n",
    "\n",
    "best_from_each.append((DecisionTreeClassifier(max_depth=best_max_depth, min_samples_split=best_min_samples_split), max_score))\n",
    "print(\"ended with score: \", max_score, \"\\n\")"
   ]
  },
  {
   "cell_type": "markdown",
   "metadata": {},
   "source": [
    "<u>Support Vector Machines"
   ]
  },
  {
   "cell_type": "code",
   "execution_count": 9,
   "metadata": {},
   "outputs": [
    {
     "name": "stdout",
     "output_type": "stream",
     "text": [
      "current search: Support Vector Machines\n",
      "ended with score:  0.6563795145056246 \n",
      "\n"
     ]
    }
   ],
   "source": [
    "print(\"current search: Support Vector Machines\")\n",
    "\n",
    "classifier = SVC(kernel='linear')\n",
    "classifier.fit(X_train, y_train)\n",
    "score = classifier.score(X_dev, y_dev)\n",
    "\n",
    "best_from_each.append((SVC(kernel='linear'), score))\n",
    "print(\"ended with score: \", score, \"\\n\")"
   ]
  },
  {
   "cell_type": "markdown",
   "metadata": {},
   "source": [
    "<u>Logistic Regression"
   ]
  },
  {
   "cell_type": "code",
   "execution_count": 10,
   "metadata": {},
   "outputs": [
    {
     "name": "stdout",
     "output_type": "stream",
     "text": [
      "current search: Logistic Regression\n",
      "ended with score:  0.6595618709295441 \n",
      "\n"
     ]
    }
   ],
   "source": [
    "print(\"current search: Logistic Regression\")\n",
    "\n",
    "classifier = LogisticRegression(max_iter=500)\n",
    "classifier.fit(X_train, y_train)\n",
    "score = classifier.score(X_dev, y_dev)\n",
    "\n",
    "best_from_each.append((LogisticRegression(max_iter=500), score))\n",
    "print(\"ended with score: \", score, \"\\n\")"
   ]
  },
  {
   "cell_type": "markdown",
   "metadata": {},
   "source": [
    "<u>GaussianNB"
   ]
  },
  {
   "cell_type": "code",
   "execution_count": 11,
   "metadata": {},
   "outputs": [
    {
     "name": "stdout",
     "output_type": "stream",
     "text": [
      "current search: GaussianNB\n",
      "ended with score:  0.6096062759029012 \n",
      "\n"
     ]
    }
   ],
   "source": [
    "print(\"current search: GaussianNB\")\n",
    "\n",
    "classifier = GaussianNB()\n",
    "classifier.fit(X_train, y_train)\n",
    "score = classifier.score(X_dev, y_dev)\n",
    "\n",
    "best_from_each.append((GaussianNB(), score))\n",
    "print(\"ended with score: \", score, \"\\n\")"
   ]
  },
  {
   "cell_type": "markdown",
   "metadata": {},
   "source": [
    "<u>Random Forest"
   ]
  },
  {
   "cell_type": "code",
   "execution_count": 12,
   "metadata": {},
   "outputs": [
    {
     "name": "stdout",
     "output_type": "stream",
     "text": [
      "current search: Random Forest\n",
      "ended with score:  0.8092806394316163 \n",
      "\n"
     ]
    }
   ],
   "source": [
    "print(\"current search: Random Forest\")\n",
    "\n",
    "classifier = RandomForestClassifier(n_estimators=50)\n",
    "classifier.fit(X_train, y_train)\n",
    "score = classifier.score(X_dev, y_dev)\n",
    "\n",
    "best_from_each.append((RandomForestClassifier(n_estimators=50), score))\n",
    "print(\"ended with score: \", score, \"\\n\")"
   ]
  },
  {
   "cell_type": "markdown",
   "metadata": {},
   "source": [
    "<u>Gradient Boosting "
   ]
  },
  {
   "cell_type": "code",
   "execution_count": 13,
   "metadata": {},
   "outputs": [
    {
     "name": "stdout",
     "output_type": "stream",
     "text": [
      "current search: Gradient Boosting\n",
      "ended with score:  0.7551805802249852 \n",
      "\n"
     ]
    }
   ],
   "source": [
    "print(\"current search: Gradient Boosting\")\n",
    "\n",
    "classifier = GradientBoostingClassifier()\n",
    "classifier.fit(X_train, y_train)\n",
    "score = classifier.score(X_dev, y_dev)\n",
    "\n",
    "best_from_each.append((GradientBoostingClassifier(), score))\n",
    "print(\"ended with score: \", score, \"\\n\")"
   ]
  },
  {
   "cell_type": "markdown",
   "metadata": {},
   "source": [
    "<u>Ada Boost"
   ]
  },
  {
   "cell_type": "code",
   "execution_count": 14,
   "metadata": {},
   "outputs": [
    {
     "name": "stdout",
     "output_type": "stream",
     "text": [
      "current search: Ada Boost\n",
      "ended with score:  0.7312018946121965 \n",
      "\n"
     ]
    }
   ],
   "source": [
    "print(\"current search: Ada Boost\")\n",
    "\n",
    "classifier = AdaBoostClassifier()\n",
    "classifier.fit(X_train, y_train)\n",
    "score = classifier.score(X_dev, y_dev)\n",
    "\n",
    "best_from_each.append((AdaBoostClassifier(), score))\n",
    "print(\"ended with score: \", score, \"\\n\")"
   ]
  },
  {
   "cell_type": "markdown",
   "metadata": {},
   "source": [
    "<u>Multi-layer Perceptron"
   ]
  },
  {
   "cell_type": "code",
   "execution_count": 15,
   "metadata": {},
   "outputs": [
    {
     "name": "stdout",
     "output_type": "stream",
     "text": [
      "current search: Multi-layer Perceptron\n",
      "ended with score:  0.7949970396684428 \n",
      "\n"
     ]
    }
   ],
   "source": [
    "print(\"current search: Multi-layer Perceptron\")\n",
    "\n",
    "classifier = MLPClassifier(hidden_layer_sizes=50)\n",
    "classifier.fit(X_train, y_train)\n",
    "score = classifier.score(X_dev, y_dev)\n",
    "\n",
    "best_from_each.append((MLPClassifier(), score))\n",
    "print(\"ended with score: \", score, \"\\n\")"
   ]
  },
  {
   "cell_type": "markdown",
   "metadata": {},
   "source": [
    "## Best Founded Method"
   ]
  },
  {
   "cell_type": "code",
   "execution_count": 16,
   "metadata": {},
   "outputs": [
    {
     "name": "stdout",
     "output_type": "stream",
     "text": [
      "Best Classifier is: RandomForestClassifier(n_estimators=50)\n"
     ]
    }
   ],
   "source": [
    "best_classifier = max(best_from_each, key=lambda x: x[1])[0]\n",
    "print(f'Best Classifier is: {best_classifier}')"
   ]
  },
  {
   "cell_type": "markdown",
   "metadata": {},
   "source": [
    "In order to evaluate our models, we computed the score by subtracting the clacification error from 1.\n",
    "\n",
    "We can explain that random forest recieved the highest score from the following reasons:\n",
    "\n",
    "* Random Forests are known for their ability to handle complex relationships and interactions between features.\n",
    "* Random Forests are robust to noisy data and outliers. Since the algorithm builds multiple trees by randomly selecting subsets of features and data points, it can effectively mitigate the impact of noisy observations or outliers in the dataset."
   ]
  },
  {
   "cell_type": "markdown",
   "metadata": {},
   "source": [
    "## Additional hyper parameter grid search"
   ]
  },
  {
   "cell_type": "markdown",
   "metadata": {},
   "source": [
    "* n_estimators: This hyperparameter determines the number of decision trees in the Random Forest. Increasing n_estimators can improve the model's accuracy up to a certain point. Adding more trees allows the ensemble to capture a more comprehensive range of patterns and reduce overfitting.\n",
    "\n",
    "* max_depth: The max_depth hyperparameter controls the maximum depth allowed for each decision tree in the Random Forest. Increasing max_depth can lead to more complex trees that can potentially capture more intricate relationships in the data. However, deeper trees can also increase the risk of overfitting, especially if the dataset is small or noisy. Setting max_depth to None (the default) allows the trees to expand until all leaves are pure or until all leaves contain fewer samples than min_samples_split.\n",
    "\n",
    "* min_samples_split: This hyperparameter sets the minimum number of samples required to split an internal node in a decision tree. Increasing min_samples_split can prevent the trees from growing excessively complex and reduce overfitting. By requiring a larger number of samples for a split, the algorithm will only consider splits that have a sufficient amount of data, promoting generalization. However, setting min_samples_split to a higher value may also lead to underfitting if the dataset is too small."
   ]
  },
  {
   "cell_type": "code",
   "execution_count": 19,
   "metadata": {},
   "outputs": [
    {
     "name": "stdout",
     "output_type": "stream",
     "text": [
      "Best Hyperparameters: [100, None, 2]\n",
      "Best Accuracy: 0.8101687388987566\n"
     ]
    }
   ],
   "source": [
    "best_score = 0\n",
    "best_hyper_param = [-1,-1,-1]\n",
    "\n",
    "for ne in [50, 100, 200]:\n",
    "    for md in [None, 5, 10]:\n",
    "        for mss in [2, 5, 10]:\n",
    "            classifier = RandomForestClassifier(n_estimators=ne, max_depth=md, min_samples_split=mss)\n",
    "            classifier.fit(X_train, y_train)\n",
    "            score = classifier.score(X_dev, y_dev)\n",
    "            if best_score < score:\n",
    "                best_classifier = classifier\n",
    "                best_score = score\n",
    "                best_hyper_param = [ne, md, mss]\n",
    "\n",
    "print(\"Best Hyperparameters:\", best_hyper_param)\n",
    "print(\"Best Accuracy:\", best_score)"
   ]
  },
  {
   "cell_type": "markdown",
   "metadata": {
    "id": "BBW__3gvUT_p"
   },
   "source": [
    "## Final result\n",
    "results on the test set"
   ]
  },
  {
   "cell_type": "code",
   "execution_count": 20,
   "metadata": {
    "colab": {
     "base_uri": "https://localhost:8080/"
    },
    "id": "TLiDweP3UKUO",
    "outputId": "6e5ce501-2212-49b9-a49e-8ca05df92f09"
   },
   "outputs": [
    {
     "name": "stdout",
     "output_type": "stream",
     "text": [
      "Real test score is: 0.8049881586737715\n",
      "F1 test score is: 0.7768028416010252\n"
     ]
    }
   ],
   "source": [
    "real_score = best_classifier.score(X_test, y_test)\n",
    "print(f'Real test score is: {real_score}')\n",
    "\n",
    "y_pred = best_classifier.predict(X_test)\n",
    "f1_s = f1_score(y_test, y_pred, average='weighted')\n",
    "print(f'F1 test score is: {f1_s}')"
   ]
  }
 ],
 "metadata": {
  "colab": {
   "provenance": []
  },
  "kernelspec": {
   "display_name": "Python 3 (ipykernel)",
   "language": "python",
   "name": "python3"
  },
  "language_info": {
   "codemirror_mode": {
    "name": "ipython",
    "version": 3
   },
   "file_extension": ".py",
   "mimetype": "text/x-python",
   "name": "python",
   "nbconvert_exporter": "python",
   "pygments_lexer": "ipython3",
   "version": "3.9.13"
  }
 },
 "nbformat": 4,
 "nbformat_minor": 4
}
