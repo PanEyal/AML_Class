{
 "cells": [
  {
   "cell_type": "code",
   "execution_count": 1,
   "id": "96d9e7dc-812a-4c02-b8cd-659be5b92695",
   "metadata": {},
   "outputs": [],
   "source": [
    "import numpy as np\n",
    "import pandas as pd\n",
    "import matplotlib.pyplot as plt"
   ]
  },
  {
   "cell_type": "code",
   "execution_count": 2,
   "id": "496165bb-3b00-4473-889b-9d65d017d738",
   "metadata": {},
   "outputs": [],
   "source": [
    "data = pd.read_pickle(\"ass2.pickle\")\n",
    "\n",
    "train = data['train']\n",
    "X_train = train.iloc[:, :-1].values\n",
    "y_train = train.iloc[:, -1].values\n",
    "\n",
    "dev = data['dev']\n",
    "X_dev = dev.iloc[:, :-1].values\n",
    "y_dev = dev.iloc[:, -1].values\n",
    "\n",
    "test = data['test']\n",
    "X_test = test.iloc[:, :-1].values\n",
    "y_test = test.iloc[:, -1].values"
   ]
  },
  {
   "cell_type": "code",
   "execution_count": 5,
   "id": "2b5498e3-326f-49ad-b5c4-fc1669728338",
   "metadata": {},
   "outputs": [
    {
     "name": "stdout",
     "output_type": "stream",
     "text": [
      "the number of samples in the train dataset is:  40533\n",
      "the dimension (or features) of each data sample is:  42\n",
      "the mean value of the mean fetures values of the train dataset is: 0.286\n",
      "the variance is: 0.395\n",
      "the data is not balanced. for the training data : (array([0, 1, 2], dtype=int64), array([ 3917,  9882, 26734], dtype=int64))\n",
      "heres an example of some data sample:\n"
     ]
    },
    {
     "data": {
      "text/plain": [
       "<Figure size 640x480 with 0 Axes>"
      ]
     },
     "metadata": {},
     "output_type": "display_data"
    },
    {
     "data": {
      "image/png": "[encoded data removed]",
      "text/plain": [
       "<Figure size 1600x200 with 1 Axes>"
      ]
     },
     "metadata": {},
     "output_type": "display_data"
    },
    {
     "name": "stdout",
     "output_type": "stream",
     "text": [
      "with label: 2\n"
     ]
    }
   ],
   "source": [
    "# preliminary data analysis\n",
    "print(\"the number of samples in the train dataset is: \", X_train.shape[0])\n",
    "print(\"the dimension (or features) of each data sample is: \", X_train.shape[1])\n",
    "print(\"the mean value of the mean fetures values of the train dataset is: {:.3f}\".format(np.mean(X_train)))\n",
    "print(\"the variance is: {:.3f}\".format(np.var(X_train)))\n",
    "print(\"the data is not balanced. for the training data : {}\". format(np.unique(y_train, return_counts=True)))\n",
    "print(\"heres an example of some data sample:\")\n",
    "\n",
    "num = 1\n",
    "img = X_train[num].reshape(1,42)\n",
    "plt.gray()\n",
    "plt.matshow(img)\n",
    "plt.show()\n",
    "\n",
    "print(\"with label: {}\".format(y_train[num]))"
   ]
  },
  {
   "cell_type": "code",
   "execution_count": 10,
   "id": "b6a32eba-9b85-44f3-8fe7-b64eab040a8f",
   "metadata": {},
   "outputs": [],
   "source": [
    "from sklearn.preprocessing import StandardScaler\n",
    "from sklearn.metrics import accuracy_score"
   ]
  },
  {
   "cell_type": "code",
   "execution_count": 21,
   "id": "d36fa361-2b50-434a-8b75-013887ee41b4",
   "metadata": {},
   "outputs": [],
   "source": [
    "def split_train_eval(classifier, X_train, y_train, X_dev, y_dev):\n",
    "    sc = StandardScaler()\n",
    "    sc.fit(X_train)\n",
    "    X_train = sc.transform(X_train)\n",
    "    classifier.fit(X_train, y_train)  \n",
    "    y_pred = classifier.predict(X_dev)\n",
    "    accuracy = accuracy_score(y_test, y_pred)  # Evaluate the misclassification\n",
    "    print(\"The accuracy is: {:.3f}\".format(accuracy))"
   ]
  },
  {
   "cell_type": "code",
   "execution_count": 22,
   "id": "f4885bf2-9620-4b6a-b1f8-8f6092067320",
   "metadata": {},
   "outputs": [
    {
     "name": "stdout",
     "output_type": "stream",
     "text": [
      "The accuracy is: 0.638\n"
     ]
    }
   ],
   "source": [
    "from sklearn.linear_model import LogisticRegression\n",
    "classifier = LogisticRegression(random_state = 0, max_iter=1000)\n",
    "split_train_eval(classifier, X_train, y_train, X_dev, y_dev)"
   ]
  },
  {
   "cell_type": "code",
   "execution_count": 26,
   "id": "ca72a7c2-8c03-42f7-adc0-a056c2d507b8",
   "metadata": {},
   "outputs": [
    {
     "name": "stderr",
     "output_type": "stream",
     "text": [
      "C:\\Users\\paney\\anaconda3\\lib\\site-packages\\sklearn\\neighbors\\_classification.py:228: FutureWarning: Unlike other reduction functions (e.g. `skew`, `kurtosis`), the default behavior of `mode` typically preserves the axis it acts along. In SciPy 1.11.0, this behavior will change: the default value of `keepdims` will become False, the `axis` over which the statistic is taken will be eliminated, and the value None will no longer be accepted. Set `keepdims` to True or False to avoid this warning.\n",
      "  mode, _ = stats.mode(_y[neigh_ind, k], axis=1)\n"
     ]
    },
    {
     "name": "stdout",
     "output_type": "stream",
     "text": [
      "The accuracy is: 0.570\n"
     ]
    }
   ],
   "source": [
    "from sklearn.neighbors import KNeighborsClassifier\n",
    "classifier = KNeighborsClassifier(n_neighbors = 100, metric = 'minkowski', p = 2)\n",
    "split_train_eval(classifier, X_train, y_train, X_dev, y_dev)"
   ]
  },
  {
   "cell_type": "code",
   "execution_count": 27,
   "id": "0bb75b22-744e-4a3a-b9c5-0ac182d00905",
   "metadata": {},
   "outputs": [
    {
     "name": "stdout",
     "output_type": "stream",
     "text": [
      "The accuracy is: 0.656\n"
     ]
    }
   ],
   "source": [
    "from sklearn.svm import SVC\n",
    "classifier = SVC(kernel = 'linear', random_state = 0)\n",
    "split_train_eval(classifier, X_train, y_train, X_dev, y_dev)"
   ]
  },
  {
   "cell_type": "code",
   "execution_count": 28,
   "id": "00a3a692-c120-49e5-825b-642116f8fc6a",
   "metadata": {},
   "outputs": [
    {
     "name": "stdout",
     "output_type": "stream",
     "text": [
      "The accuracy is: 0.509\n"
     ]
    }
   ],
   "source": [
    "classifier = SVC(kernel = 'rbf', random_state = 0)\n",
    "split_train_eval(classifier, X_train, y_train, X_dev, y_dev)"
   ]
  },
  {
   "cell_type": "code",
   "execution_count": 29,
   "id": "fbf2220a-ee2d-4ac9-89a4-4f649177c806",
   "metadata": {},
   "outputs": [
    {
     "name": "stdout",
     "output_type": "stream",
     "text": [
      "The accuracy is: 0.585\n"
     ]
    }
   ],
   "source": [
    "from sklearn.naive_bayes import GaussianNB\n",
    "classifier = GaussianNB()\n",
    "split_train_eval(classifier, X_train, y_train, X_dev, y_dev)"
   ]
  },
  {
   "cell_type": "code",
   "execution_count": 30,
   "id": "e265f6b9-bfe1-42f3-a63e-882f394ca1f8",
   "metadata": {},
   "outputs": [
    {
     "name": "stdout",
     "output_type": "stream",
     "text": [
      "The accuracy is: 0.409\n"
     ]
    }
   ],
   "source": [
    "from sklearn.tree import DecisionTreeClassifier\n",
    "classifier = DecisionTreeClassifier(criterion = 'entropy', random_state = 0)\n",
    "split_train_eval(classifier, X_train, y_train, X_dev, y_dev)"
   ]
  },
  {
   "cell_type": "code",
   "execution_count": 31,
   "id": "fe6efb3e-fda6-47c4-9f68-f46b31ddee91",
   "metadata": {},
   "outputs": [
    {
     "name": "stdout",
     "output_type": "stream",
     "text": [
      "The accuracy is: 0.490\n"
     ]
    }
   ],
   "source": [
    "from sklearn.ensemble import RandomForestClassifier\n",
    "classifier = RandomForestClassifier(n_estimators = 10, criterion = 'entropy', random_state = 0)\n",
    "split_train_eval(classifier, X_train, y_train, X_dev, y_dev)"
   ]
  },
  {
   "cell_type": "code",
   "execution_count": null,
   "id": "c5a67ca9-2e2d-4a78-873d-153ea7676865",
   "metadata": {},
   "outputs": [],
   "source": []
  }
 ],
 "metadata": {
  "kernelspec": {
   "display_name": "Python 3 (ipykernel)",
   "language": "python",
   "name": "python3"
  },
  "language_info": {
   "codemirror_mode": {
    "name": "ipython",
    "version": 3
   },
   "file_extension": ".py",
   "mimetype": "text/x-python",
   "name": "python",
   "nbconvert_exporter": "python",
   "pygments_lexer": "ipython3",
   "version": "3.9.13"
  }
 },
 "nbformat": 4,
 "nbformat_minor": 5
}
