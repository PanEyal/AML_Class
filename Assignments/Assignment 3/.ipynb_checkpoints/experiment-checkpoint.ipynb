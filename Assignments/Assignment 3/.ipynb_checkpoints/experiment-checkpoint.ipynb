{
 "cells": [
  {
   "cell_type": "markdown",
   "metadata": {
    "id": "72ywWyeyyBig"
   },
   "source": [
    "<h4><center>Koren Abitbul, Pan Eyal</center></h4>"
   ]
  },
  {
   "cell_type": "markdown",
   "metadata": {
    "id": "q1yM0wp89Ba_"
   },
   "source": [
    "Imports"
   ]
  },
  {
   "cell_type": "code",
   "execution_count": 1,
   "metadata": {
    "id": "dTO1OAxnhZqn"
   },
   "outputs": [],
   "source": [
    "import numpy as np\n",
    "import pandas as pd\n",
    "import matplotlib.pyplot as plt\n",
    "from sklearn.preprocessing import StandardScaler\n",
    "from sklearn.model_selection import GridSearchCV\n",
    "from sklearn.metrics import mean_squared_error\n",
    "\n",
    "np.random.seed(42)"
   ]
  },
  {
   "cell_type": "code",
   "execution_count": 2,
   "metadata": {
    "tags": []
   },
   "outputs": [],
   "source": [
    "from sklearn.gaussian_process import GaussianProcessRegressor\n",
    "from sklearn.linear_model import PassiveAggressiveRegressor\n",
    "from sklearn.linear_model import LinearRegression\n",
    "from sklearn.linear_model import BayesianRidge\n",
    "from sklearn.linear_model import ElasticNet\n",
    "from sklearn.linear_model import Ridge\n",
    "from sklearn.linear_model import Lasso\n",
    "from sklearn.ensemble import GradientBoostingRegressor\n",
    "from sklearn.ensemble import RandomForestRegressor\n",
    "from sklearn.ensemble import AdaBoostRegressor\n",
    "from sklearn.neighbors import KNeighborsRegressor\n",
    "from sklearn.tree import DecisionTreeRegressor\n",
    "from sklearn.svm import SVR"
   ]
  },
  {
   "cell_type": "markdown",
   "metadata": {
    "id": "lEjjLrh0lvmH"
   },
   "source": [
    "Loading the Data"
   ]
  },
  {
   "cell_type": "code",
   "execution_count": 3,
   "metadata": {
    "id": "ToK5N-IIhc3Z"
   },
   "outputs": [],
   "source": [
    "data = pd.read_pickle(\"ass3.pickle\")\n",
    "\n",
    "train = data['train']\n",
    "X_train = train.iloc[:, :-1].values\n",
    "y_train = train.iloc[:, -1].values\n",
    "\n",
    "dev = data['dev']\n",
    "X_dev = dev.iloc[:, :-1].values\n",
    "y_dev = dev.iloc[:, -1].values\n",
    "\n",
    "test = data['test']\n",
    "X_test = test.iloc[:, :-1].values\n",
    "y_test = test.iloc[:, -1].values"
   ]
  },
  {
   "cell_type": "markdown",
   "metadata": {
    "id": "jLQAfKm6lx2W"
   },
   "source": [
    "## Preliminary Data Analysis\n",
    "\n",
    "Printing some statistics about the data.\n",
    "In addition, We can observe that the different features have different counts from the 'target', which has 12384 labels. This suggests that there might be some missing data in the other features. In order to fix that we replace any NaN values with the mean of the non-missing values using np.nanmean().\n"
   ]
  },
  {
   "cell_type": "code",
   "execution_count": 4,
   "metadata": {
    "colab": {
     "base_uri": "https://localhost:8080/"
    },
    "id": "gtEXTUftBLKN",
    "outputId": "d3d893d7-7678-453f-e93c-5e58cee2e401"
   },
   "outputs": [
    {
     "name": "stdout",
     "output_type": "stream",
     "text": [
      "The shape of the train data:  (12384, 8)\n",
      "             f0        f1        f2        f3        f4        f5        f6  \\\n",
      "count  12210.00  12244.00  12226.00  12228.00  12215.00  12242.00  12233.00   \n",
      "mean       3.87     28.63      5.42      1.10   1426.83      3.14     35.63   \n",
      "std        1.92     12.57      2.38      0.47   1103.53     13.44      2.13   \n",
      "min        0.50      1.00      0.85      0.50      3.00      0.69     32.55   \n",
      "25%        2.56     18.00      4.43      1.01    786.00      2.43     33.94   \n",
      "50%        3.53     29.00      5.22      1.05   1170.00      2.82     34.25   \n",
      "75%        4.75     37.00      6.04      1.10   1739.00      3.28     37.71   \n",
      "max       15.00     52.00    132.53     34.07  28566.00   1243.33     41.95   \n",
      "\n",
      "             f7    target  \n",
      "count  12236.00  12384.00  \n",
      "mean    -119.56      2.07  \n",
      "std        2.00      1.15  \n",
      "min     -124.35      0.15  \n",
      "25%     -121.79      1.20  \n",
      "50%     -118.49      1.80  \n",
      "75%     -118.02      2.65  \n",
      "max     -114.55      5.00   \n",
      "\n"
     ]
    }
   ],
   "source": [
    "import seaborn as sns\n",
    "# Get the shape of the training set\n",
    "print(\"The shape of the train data: \", X_train.shape)\n",
    "# Summary statistics of the training set\n",
    "print(train.describe().round(2), \"\\n\")"
   ]
  },
  {
   "cell_type": "markdown",
   "metadata": {},
   "source": [
    "Handle any NaN values with np.nanmean():"
   ]
  },
  {
   "cell_type": "code",
   "execution_count": 5,
   "metadata": {},
   "outputs": [],
   "source": [
    "nan_indices = np.isnan(X_train)\n",
    "X_train[nan_indices] = np.nanmean(X_train)\n",
    "\n",
    "nan_indices = np.isnan(X_dev)\n",
    "X_dev[nan_indices] = np.nanmean(X_dev)\n",
    "\n",
    "nan_indices = np.isnan(X_test)\n",
    "X_test[nan_indices] = np.nanmean(X_test)"
   ]
  },
  {
   "cell_type": "markdown",
   "metadata": {
    "id": "RFI_RI3qUczw"
   },
   "source": [
    "## Visualize the correlation matrix\n",
    "we can see the correlation between the features"
   ]
  },
  {
   "cell_type": "code",
   "execution_count": 6,
   "metadata": {
    "colab": {
     "base_uri": "https://localhost:8080/",
     "height": 464
    },
    "id": "Iz3oycXwUep7",
    "outputId": "c0600170-a24f-44f2-debb-243c5d3c6a96"
   },
   "outputs": [
    {
     "data": {
      "image/png": "[encoded data removed]",
      "text/plain": [
       "<Figure size 640x480 with 2 Axes>"
      ]
     },
     "metadata": {},
     "output_type": "display_data"
    }
   ],
   "source": [
    "# Calculate the correlation matrix\n",
    "correlation_matrix = train.corr()\n",
    "# Visualize the correlation matrix using a heatmap\n",
    "sns.heatmap(correlation_matrix, annot=False, cmap='coolwarm')\n",
    "plt.show()"
   ]
  },
  {
   "cell_type": "markdown",
   "metadata": {
    "id": "mD3spN7KURpv"
   },
   "source": [
    "## Method grid search\n",
    "We evaluate the performance of various classification methods and different parameter settings by assessing their results on the validation set. Subsequently, we select the best method based on the outcomes obtained from the validation set."
   ]
  },
  {
   "cell_type": "code",
   "execution_count": 7,
   "metadata": {
    "id": "HetJDZcenCVl"
   },
   "outputs": [],
   "source": [
    "import warnings\n",
    "from sklearn.exceptions import ConvergenceWarning\n",
    "warnings.simplefilter(action='ignore', category=FutureWarning)\n",
    "warnings.simplefilter(action='ignore', category=ConvergenceWarning)\n",
    "\n",
    "best_from_each = []"
   ]
  },
  {
   "cell_type": "code",
   "execution_count": 8,
   "metadata": {},
   "outputs": [
    {
     "name": "stdout",
     "output_type": "stream",
     "text": [
      "current search: Gaussian Process Regressor\n",
      "ended with MSE: 5.200895993098874\n",
      "\n",
      "current search: Passive Aggressive Regressor\n",
      "ended with MSE: 3.54743189895901\n",
      "\n",
      "current search: Linear Regression\n",
      "ended with MSE: 1.2820407694052791\n",
      "\n",
      "current search: Bayesian Ridge\n",
      "ended with MSE: 1.2831892785668426\n",
      "\n",
      "current search: Elastic Net\n",
      "ended with MSE: 1.2915457380890611\n",
      "\n",
      "current search: Ridge\n",
      "ended with MSE: 1.2820407746522897\n",
      "\n",
      "current search: Lasso\n",
      "ended with MSE: 1.2987485168715187\n",
      "\n",
      "current search: Gradient Boosting Regressor\n",
      "ended with MSE: 0.2952153389845998\n",
      "\n",
      "current search: Random Forest Regressor\n",
      "ended with MSE: 0.2741390983772256\n",
      "\n",
      "current search: Ada Boost Regressor\n",
      "ended with MSE: 0.8591539602168555\n",
      "\n",
      "current search: KNeighbors Regressor\n",
      "ended with MSE: 1.1694616955386832\n",
      "\n",
      "current search: Decision Tree Regressor\n",
      "ended with MSE: 0.5740574992921996\n",
      "\n",
      "current search: SVR\n",
      "ended with MSE: 1.3666190662901982\n",
      "\n"
     ]
    }
   ],
   "source": [
    "# Define the models and their respective hyperparameters to search\n",
    "models = {\n",
    "    'Gaussian Process Regressor': (GaussianProcessRegressor(), {}),\n",
    "    'Passive Aggressive Regressor': (PassiveAggressiveRegressor(), {}),\n",
    "    'Linear Regression': (LinearRegression(), {}),\n",
    "    'Bayesian Ridge': (BayesianRidge(), {}),\n",
    "    'Elastic Net': (ElasticNet(), {}),\n",
    "    'Ridge': (Ridge(), {}),\n",
    "    'Lasso': (Lasso(), {}),\n",
    "    'Gradient Boosting Regressor': (GradientBoostingRegressor(), {}),\n",
    "    'Random Forest Regressor': (RandomForestRegressor(), {}),\n",
    "    'Ada Boost Regressor': (AdaBoostRegressor(), {}),\n",
    "    'KNeighbors Regressor': (KNeighborsRegressor(), {}),\n",
    "    'Decision Tree Regressor': (DecisionTreeRegressor(), {}),\n",
    "    'SVR': (SVR(), {})\n",
    "}\n",
    "\n",
    "# Perform grid search for each model\n",
    "for model_name, (model, param_grid) in models.items():\n",
    "    print(f\"current search: {model_name}\")\n",
    "    model.fit(X_train, y_train)\n",
    "    \n",
    "    y_pred = model.predict(X_dev)\n",
    "    mse = mean_squared_error(y_dev, y_pred)\n",
    "    best_from_each.append((model, mse))\n",
    "    print(f\"ended with MSE: {mse}\\n\")"
   ]
  },
  {
   "cell_type": "markdown",
   "metadata": {},
   "source": [
    "## Best Founded Method"
   ]
  },
  {
   "cell_type": "code",
   "execution_count": 9,
   "metadata": {},
   "outputs": [
    {
     "name": "stdout",
     "output_type": "stream",
     "text": [
      "Best model is: RandomForestRegressor()\n"
     ]
    }
   ],
   "source": [
    "best_model = min(best_from_each, key=lambda x: x[1])[0]\n",
    "print(f'Best model is: {best_model}')"
   ]
  },
  {
   "cell_type": "markdown",
   "metadata": {},
   "source": [
    "In order to evaluate our models, we computed the mse on each of them with the Dev data.\n",
    "\n",
    "We can explain that random forest recieved the highest score from the following reasons:\n",
    "\n",
    "* Random Forests are known for their ability to handle complex relationships and interactions between features.\n",
    "* Random Forests are robust to noisy data and outliers. Since the algorithm builds multiple trees by randomly selecting subsets of features and data points, it can effectively mitigate the impact of noisy observations or outliers in the dataset."
   ]
  },
  {
   "cell_type": "markdown",
   "metadata": {},
   "source": [
    "## Additional hyper parameter grid search"
   ]
  },
  {
   "cell_type": "markdown",
   "metadata": {},
   "source": [
    "* n_estimators: This hyperparameter determines the number of decision trees in the Random Forest. Increasing n_estimators can improve the model's accuracy up to a certain point. Adding more trees allows the ensemble to capture a more comprehensive range of patterns and reduce overfitting.\n",
    "\n",
    "* max_depth: The max_depth hyperparameter controls the maximum depth allowed for each decision tree in the Random Forest. Increasing max_depth can lead to more complex trees that can potentially capture more intricate relationships in the data. However, deeper trees can also increase the risk of overfitting, especially if the dataset is small or noisy. Setting max_depth to None (the default) allows the trees to expand until all leaves are pure or until all leaves contain fewer samples than min_samples_split.\n",
    "\n",
    "* min_samples_split: This hyperparameter sets the minimum number of samples required to split an internal node in a decision tree. Increasing min_samples_split can prevent the trees from growing excessively complex and reduce overfitting. By requiring a larger number of samples for a split, the algorithm will only consider splits that have a sufficient amount of data, promoting generalization. However, setting min_samples_split to a higher value may also lead to underfitting if the dataset is too small."
   ]
  },
  {
   "cell_type": "code",
   "execution_count": 10,
   "metadata": {},
   "outputs": [
    {
     "name": "stdout",
     "output_type": "stream",
     "text": [
      "Best Hyperparameters: [200, None, 2]\n",
      "Best MSE: 0.269892050518532\n"
     ]
    }
   ],
   "source": [
    "best_mse = np.inf\n",
    "best_hyper_param = [-1,-1,-1]\n",
    "\n",
    "for ne in [50, 100, 200]:\n",
    "    for md in [None, 5, 10, 15, 20]:\n",
    "        for mss in [2, 5, 10]:\n",
    "            model = RandomForestRegressor(n_estimators=ne, max_depth=md, min_samples_split=mss)\n",
    "            model.fit(X_train, y_train)\n",
    "            y_pred = model.predict(X_dev)\n",
    "            mse = mean_squared_error(y_dev, y_pred)\n",
    "            if best_mse > mse:\n",
    "                best_model = model\n",
    "                best_mse = mse\n",
    "                best_hyper_param = [ne, md, mss]\n",
    "\n",
    "print(\"Best Hyperparameters:\", best_hyper_param)\n",
    "print(\"Best MSE:\", best_mse)"
   ]
  },
  {
   "cell_type": "markdown",
   "metadata": {
    "id": "BBW__3gvUT_p"
   },
   "source": [
    "## Final result\n",
    "results on the test set"
   ]
  },
  {
   "cell_type": "code",
   "execution_count": 11,
   "metadata": {
    "colab": {
     "base_uri": "https://localhost:8080/"
    },
    "id": "TLiDweP3UKUO",
    "outputId": "6e5ce501-2212-49b9-a49e-8ca05df92f09"
   },
   "outputs": [
    {
     "name": "stdout",
     "output_type": "stream",
     "text": [
      "Real test mse is: 0.26741025717721933\n"
     ]
    }
   ],
   "source": [
    "model = RandomForestRegressor(n_estimators=200, max_depth=None, min_samples_split=5)\n",
    "model.fit(X_train, y_train)\n",
    "y_pred = model.predict(X_test)\n",
    "real_mse = mean_squared_error(y_test, y_pred)\n",
    "print(f'Real test mse is: {real_mse}')"
   ]
  }
 ],
 "metadata": {
  "colab": {
   "provenance": []
  },
  "kernelspec": {
   "display_name": "Python 3 (ipykernel)",
   "language": "python",
   "name": "python3"
  },
  "language_info": {
   "codemirror_mode": {
    "name": "ipython",
    "version": 3
   },
   "file_extension": ".py",
   "mimetype": "text/x-python",
   "name": "python",
   "nbconvert_exporter": "python",
   "pygments_lexer": "ipython3",
   "version": "3.9.13"
  }
 },
 "nbformat": 4,
 "nbformat_minor": 4
}
